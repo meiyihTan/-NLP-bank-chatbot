{
  "nbformat": 4,
  "nbformat_minor": 0,
  "metadata": {
    "colab": {
      "name": "run_chatbot.ipynb",
      "provenance": [],
      "collapsed_sections": [],
      "authorship_tag": "ABX9TyMBfMdCCDFCgjXQRoLOHRQv",
      "include_colab_link": true
    },
    "kernelspec": {
      "name": "python3",
      "display_name": "Python 3"
    },
    "language_info": {
      "name": "python"
    }
  },
  "cells": [
    {
      "cell_type": "markdown",
      "metadata": {
        "id": "view-in-github",
        "colab_type": "text"
      },
      "source": [
        "<a href=\"https://colab.research.google.com/github/brandontan99/NLP-bank-chatbot/blob/master/run_chatbot.ipynb\" target=\"_parent\"><img src=\"https://colab.research.google.com/assets/colab-badge.svg\" alt=\"Open In Colab\"/></a>"
      ]
    },
    {
      "cell_type": "markdown",
      "metadata": {
        "id": "nR55EXsZPGHK"
      },
      "source": [
        "# Set up the environment"
      ]
    },
    {
      "cell_type": "code",
      "metadata": {
        "id": "PS7MoCd1OrPL",
        "colab": {
          "base_uri": "https://localhost:8080/"
        },
        "outputId": "c53ece71-0771-471c-e44d-a208cf253ed4"
      },
      "source": [
        "!git clone https://github.com/brandontan99/NLP-bank-chatbot.git\n",
        "%cd NLP-bank-chatbot\n",
        "!pip install -r requirements.txt \n",
        "!python download_modules.py"
      ],
      "execution_count": 1,
      "outputs": [
        {
          "output_type": "stream",
          "text": [
            "Cloning into 'NLP-bank-chatbot'...\n",
            "remote: Enumerating objects: 415, done.\u001b[K\n",
            "remote: Counting objects: 100% (22/22), done.\u001b[K\n",
            "remote: Compressing objects: 100% (6/6), done.\u001b[K\n",
            "remote: Total 415 (delta 19), reused 16 (delta 16), pack-reused 393\u001b[K\n",
            "Receiving objects: 100% (415/415), 224.68 KiB | 6.61 MiB/s, done.\n",
            "Resolving deltas: 100% (241/241), done.\n",
            "/content/NLP-bank-chatbot\n",
            "Collecting transformers\n",
            "\u001b[?25l  Downloading https://files.pythonhosted.org/packages/d5/43/cfe4ee779bbd6a678ac6a97c5a5cdeb03c35f9eaebbb9720b036680f9a2d/transformers-4.6.1-py3-none-any.whl (2.2MB)\n",
            "\u001b[K     |████████████████████████████████| 2.3MB 5.1MB/s \n",
            "\u001b[?25hRequirement already satisfied: termcolor in /usr/local/lib/python3.7/dist-packages (from -r requirements.txt (line 2)) (1.1.0)\n",
            "Collecting umap-learn\n",
            "\u001b[?25l  Downloading https://files.pythonhosted.org/packages/75/69/85e7f950bb75792ad5d666d86c5f3e62eedbb942848e7e3126513af9999c/umap-learn-0.5.1.tar.gz (80kB)\n",
            "\u001b[K     |████████████████████████████████| 81kB 8.4MB/s \n",
            "\u001b[?25hCollecting hdbscan\n",
            "\u001b[?25l  Downloading https://files.pythonhosted.org/packages/32/bb/59a75bc5ac66a9b4f9b8f979e4545af0e98bb1ca4e6ae96b3b956b554223/hdbscan-0.8.27.tar.gz (6.4MB)\n",
            "\u001b[K     |████████████████████████████████| 6.4MB 24.9MB/s \n",
            "\u001b[?25h  Installing build dependencies ... \u001b[?25l\u001b[?25hdone\n",
            "  Getting requirements to build wheel ... \u001b[?25l\u001b[?25hdone\n",
            "    Preparing wheel metadata ... \u001b[?25l\u001b[?25hdone\n",
            "Collecting contractions\n",
            "  Downloading https://files.pythonhosted.org/packages/6c/64/53b56cff18d3d7c4f29fe1a18699e225041ced4f0115310aec0f04c155d4/contractions-0.0.50-py2.py3-none-any.whl\n",
            "Collecting sacremoses\n",
            "\u001b[?25l  Downloading https://files.pythonhosted.org/packages/75/ee/67241dc87f266093c533a2d4d3d69438e57d7a90abb216fa076e7d475d4a/sacremoses-0.0.45-py3-none-any.whl (895kB)\n",
            "\u001b[K     |████████████████████████████████| 901kB 33.3MB/s \n",
            "\u001b[?25hRequirement already satisfied: packaging in /usr/local/lib/python3.7/dist-packages (from transformers->-r requirements.txt (line 1)) (20.9)\n",
            "Requirement already satisfied: importlib-metadata; python_version < \"3.8\" in /usr/local/lib/python3.7/dist-packages (from transformers->-r requirements.txt (line 1)) (4.0.1)\n",
            "Requirement already satisfied: numpy>=1.17 in /usr/local/lib/python3.7/dist-packages (from transformers->-r requirements.txt (line 1)) (1.19.5)\n",
            "Collecting huggingface-hub==0.0.8\n",
            "  Downloading https://files.pythonhosted.org/packages/a1/88/7b1e45720ecf59c6c6737ff332f41c955963090a18e72acbcbeac6b25e86/huggingface_hub-0.0.8-py3-none-any.whl\n",
            "Requirement already satisfied: requests in /usr/local/lib/python3.7/dist-packages (from transformers->-r requirements.txt (line 1)) (2.23.0)\n",
            "Collecting tokenizers<0.11,>=0.10.1\n",
            "\u001b[?25l  Downloading https://files.pythonhosted.org/packages/d4/e2/df3543e8ffdab68f5acc73f613de9c2b155ac47f162e725dcac87c521c11/tokenizers-0.10.3-cp37-cp37m-manylinux_2_5_x86_64.manylinux1_x86_64.manylinux_2_12_x86_64.manylinux2010_x86_64.whl (3.3MB)\n",
            "\u001b[K     |████████████████████████████████| 3.3MB 29.7MB/s \n",
            "\u001b[?25hRequirement already satisfied: regex!=2019.12.17 in /usr/local/lib/python3.7/dist-packages (from transformers->-r requirements.txt (line 1)) (2019.12.20)\n",
            "Requirement already satisfied: filelock in /usr/local/lib/python3.7/dist-packages (from transformers->-r requirements.txt (line 1)) (3.0.12)\n",
            "Requirement already satisfied: tqdm>=4.27 in /usr/local/lib/python3.7/dist-packages (from transformers->-r requirements.txt (line 1)) (4.41.1)\n",
            "Requirement already satisfied: scikit-learn>=0.22 in /usr/local/lib/python3.7/dist-packages (from umap-learn->-r requirements.txt (line 3)) (0.22.2.post1)\n",
            "Requirement already satisfied: scipy>=1.0 in /usr/local/lib/python3.7/dist-packages (from umap-learn->-r requirements.txt (line 3)) (1.4.1)\n",
            "Requirement already satisfied: numba>=0.49 in /usr/local/lib/python3.7/dist-packages (from umap-learn->-r requirements.txt (line 3)) (0.51.2)\n",
            "Collecting pynndescent>=0.5\n",
            "\u001b[?25l  Downloading https://files.pythonhosted.org/packages/af/65/8189298dd3a05bbad716ee8e249764ff8800e365d8dc652ad2192ca01b4a/pynndescent-0.5.2.tar.gz (1.1MB)\n",
            "\u001b[K     |████████████████████████████████| 1.2MB 32.4MB/s \n",
            "\u001b[?25hRequirement already satisfied: six in /usr/local/lib/python3.7/dist-packages (from hdbscan->-r requirements.txt (line 4)) (1.15.0)\n",
            "Requirement already satisfied: joblib>=1.0 in /usr/local/lib/python3.7/dist-packages (from hdbscan->-r requirements.txt (line 4)) (1.0.1)\n",
            "Requirement already satisfied: cython>=0.27 in /usr/local/lib/python3.7/dist-packages (from hdbscan->-r requirements.txt (line 4)) (0.29.23)\n",
            "Collecting textsearch>=0.0.21\n",
            "  Downloading https://files.pythonhosted.org/packages/d3/fe/021d7d76961b5ceb9f8d022c4138461d83beff36c3938dc424586085e559/textsearch-0.0.21-py2.py3-none-any.whl\n",
            "Requirement already satisfied: click in /usr/local/lib/python3.7/dist-packages (from sacremoses->transformers->-r requirements.txt (line 1)) (7.1.2)\n",
            "Requirement already satisfied: pyparsing>=2.0.2 in /usr/local/lib/python3.7/dist-packages (from packaging->transformers->-r requirements.txt (line 1)) (2.4.7)\n",
            "Requirement already satisfied: zipp>=0.5 in /usr/local/lib/python3.7/dist-packages (from importlib-metadata; python_version < \"3.8\"->transformers->-r requirements.txt (line 1)) (3.4.1)\n",
            "Requirement already satisfied: typing-extensions>=3.6.4; python_version < \"3.8\" in /usr/local/lib/python3.7/dist-packages (from importlib-metadata; python_version < \"3.8\"->transformers->-r requirements.txt (line 1)) (3.7.4.3)\n",
            "Requirement already satisfied: idna<3,>=2.5 in /usr/local/lib/python3.7/dist-packages (from requests->transformers->-r requirements.txt (line 1)) (2.10)\n",
            "Requirement already satisfied: certifi>=2017.4.17 in /usr/local/lib/python3.7/dist-packages (from requests->transformers->-r requirements.txt (line 1)) (2020.12.5)\n",
            "Requirement already satisfied: urllib3!=1.25.0,!=1.25.1,<1.26,>=1.21.1 in /usr/local/lib/python3.7/dist-packages (from requests->transformers->-r requirements.txt (line 1)) (1.24.3)\n",
            "Requirement already satisfied: chardet<4,>=3.0.2 in /usr/local/lib/python3.7/dist-packages (from requests->transformers->-r requirements.txt (line 1)) (3.0.4)\n",
            "Requirement already satisfied: setuptools in /usr/local/lib/python3.7/dist-packages (from numba>=0.49->umap-learn->-r requirements.txt (line 3)) (57.0.0)\n",
            "Requirement already satisfied: llvmlite<0.35,>=0.34.0.dev0 in /usr/local/lib/python3.7/dist-packages (from numba>=0.49->umap-learn->-r requirements.txt (line 3)) (0.34.0)\n",
            "Collecting pyahocorasick\n",
            "\u001b[?25l  Downloading https://files.pythonhosted.org/packages/7f/c2/eae730037ae1cbbfaa229d27030d1d5e34a1e41114b21447d1202ae9c220/pyahocorasick-1.4.2.tar.gz (321kB)\n",
            "\u001b[K     |████████████████████████████████| 327kB 31.3MB/s \n",
            "\u001b[?25hCollecting anyascii\n",
            "\u001b[?25l  Downloading https://files.pythonhosted.org/packages/a3/14/666cd44bf53f36a961544af592cb5c5c800013f9c51a4745af8d7c17362a/anyascii-0.2.0-py3-none-any.whl (283kB)\n",
            "\u001b[K     |████████████████████████████████| 286kB 38.1MB/s \n",
            "\u001b[?25hBuilding wheels for collected packages: hdbscan\n",
            "  Building wheel for hdbscan (PEP 517) ... \u001b[?25l\u001b[?25hdone\n",
            "  Created wheel for hdbscan: filename=hdbscan-0.8.27-cp37-cp37m-linux_x86_64.whl size=2311721 sha256=e192ace1ef5ef75286c7c7408b46c01488aee625587978a262b239e0b319210d\n",
            "  Stored in directory: /root/.cache/pip/wheels/42/63/fb/314ad6c3b270887a3ecb588b8e5aac50b0fad38ff89bb6dff2\n",
            "Successfully built hdbscan\n",
            "Building wheels for collected packages: umap-learn, pynndescent, pyahocorasick\n",
            "  Building wheel for umap-learn (setup.py) ... \u001b[?25l\u001b[?25hdone\n",
            "  Created wheel for umap-learn: filename=umap_learn-0.5.1-cp37-none-any.whl size=76569 sha256=382c171acd96d1827cba7be9dc62693eab7362bfe86b503e89dfa640828ecc8e\n",
            "  Stored in directory: /root/.cache/pip/wheels/ad/df/d5/a3691296ff779f25cd1cf415a3af954b987fb53111e3392cf4\n",
            "  Building wheel for pynndescent (setup.py) ... \u001b[?25l\u001b[?25hdone\n",
            "  Created wheel for pynndescent: filename=pynndescent-0.5.2-cp37-none-any.whl size=51362 sha256=284b4de01e3c8befefd76bf8cc38e36629d8ad11da69f38b5aab45ed7b2d60e1\n",
            "  Stored in directory: /root/.cache/pip/wheels/ba/52/4e/4c28d04d144a28f89e2575fb63628df6e6d49b56c5ddd0c74e\n",
            "  Building wheel for pyahocorasick (setup.py) ... \u001b[?25l\u001b[?25hdone\n",
            "  Created wheel for pyahocorasick: filename=pyahocorasick-1.4.2-cp37-cp37m-linux_x86_64.whl size=85397 sha256=8fe12f81614a856b086115f2fb573c450f3d20199ae5c1775d9bfe51a61a988b\n",
            "  Stored in directory: /root/.cache/pip/wheels/3a/03/34/77e3ece0bba8b86bfac88a79f923b36d805cad63caeba38842\n",
            "Successfully built umap-learn pynndescent pyahocorasick\n",
            "Installing collected packages: sacremoses, huggingface-hub, tokenizers, transformers, pynndescent, umap-learn, hdbscan, pyahocorasick, anyascii, textsearch, contractions\n",
            "Successfully installed anyascii-0.2.0 contractions-0.0.50 hdbscan-0.8.27 huggingface-hub-0.0.8 pyahocorasick-1.4.2 pynndescent-0.5.2 sacremoses-0.0.45 textsearch-0.0.21 tokenizers-0.10.3 transformers-4.6.1 umap-learn-0.5.1\n",
            "[nltk_data] Downloading package stopwords to /root/nltk_data...\n",
            "[nltk_data]   Unzipping corpora/stopwords.zip.\n",
            "[nltk_data] Downloading package punkt to /root/nltk_data...\n",
            "[nltk_data]   Unzipping tokenizers/punkt.zip.\n",
            "[nltk_data] Downloading package wordnet to /root/nltk_data...\n",
            "[nltk_data]   Unzipping corpora/wordnet.zip.\n",
            "2021-06-14 02:03:22.675675: I tensorflow/stream_executor/platform/default/dso_loader.cc:53] Successfully opened dynamic library libcudart.so.11.0\n",
            "Downloading: 100% 232k/232k [00:00<00:00, 5.48MB/s]\n",
            "Downloading: 100% 28.0/28.0 [00:00<00:00, 15.4kB/s]\n",
            "Downloading: 100% 466k/466k [00:00<00:00, 9.09MB/s]\n",
            "Downloading: 100% 570/570 [00:00<00:00, 323kB/s]\n",
            "Downloading: 100% 440M/440M [00:19<00:00, 22.4MB/s]\n",
            "Some weights of the model checkpoint at bert-base-uncased were not used when initializing BertModel: ['cls.predictions.transform.dense.bias', 'cls.seq_relationship.weight', 'cls.predictions.transform.LayerNorm.bias', 'cls.predictions.transform.LayerNorm.weight', 'cls.predictions.decoder.weight', 'cls.predictions.bias', 'cls.seq_relationship.bias', 'cls.predictions.transform.dense.weight']\n",
            "- This IS expected if you are initializing BertModel from the checkpoint of a model trained on another task or with another architecture (e.g. initializing a BertForSequenceClassification model from a BertForPreTraining model).\n",
            "- This IS NOT expected if you are initializing BertModel from the checkpoint of a model that you expect to be exactly identical (initializing a BertForSequenceClassification model from a BertForSequenceClassification model).\n"
          ],
          "name": "stdout"
        }
      ]
    },
    {
      "cell_type": "markdown",
      "metadata": {
        "id": "v4idMJgdTayp"
      },
      "source": [
        "# Test Database Extraction"
      ]
    },
    {
      "cell_type": "code",
      "metadata": {
        "colab": {
          "base_uri": "https://localhost:8080/"
        },
        "id": "2-YPfhH4TfSb",
        "outputId": "8e11d7f1-9d97-4e0d-df97-aa8a9d3fee75"
      },
      "source": [
        "!python database_extraction.py"
      ],
      "execution_count": null,
      "outputs": [
        {
          "output_type": "stream",
          "text": [
            "1: {'I want to transfer AMOUNT to PERSON in BANK_ACC bank account.': {'answer': 'AMOUNT has been transferred to PERSON in BANK_ACC.'}, 'I want to pay bill of AMOUNT with PERSON in BANK_ACC bank account': {'answer': 'AMOUNT bill has been paid.'}, 'I want to deposit AMOUNT to BANK_ACC bank account': {'answer': 'AMOUNT has been deposited into BANK_ACC.'}, 'I want to check balance in BANK_ACC bank account': {'answer': 'BANK_ACC bank account has AMOUNT left.'}} \n",
            "2: {'What is Bills & Statements?': {'answer': 'Bills & Statements provides your monthly statements and bills (banking statements, credit card and selected bills, advices and notices) in M2U. So you have the option of viewing and saving them in your computer instead of receiving a printed statement by mail every month.'}, 'How do I activate access to Bills & Statements?': {'answer': 'The first time Bills & Statements is accessed, you will be required to read and accept the Terms and Conditions of Access. This is a one-time acceptance and after this, you will be able to view your bills and statements directly.'}, 'What are the charges for this service?': {'answer': 'It is free of charge.'}, 'What bills and statements will I be able to view in M2U?': {'answer': 'You can view statements for:'}, 'Will I be able to view my statements anytime?': {'answer': 'You will be able to login and view your bills during the time Maybank2u.com is available. However, bear in mind that you are viewing your monthly bills which will be updated at different times of the month according to your billing cycle and not necessarily on the 1st of each month.'}, 'Will I be able to view all monthly statements on the 1st of each month?': {'answer': 'Monthly statement updates vary according to account type and billing date. Here is a guide for your reference.'}, 'How many months’ statement history will be available in Maybank2u.com?': {'answer': 'You will be able to view the following:'}, 'What is the difference between my M2U Account Summary and Bills & Statements?': {'answer': 'The difference is:'}, 'How do I print/download my bill or statement?': {'answer': 'You have the option of printing your statement or saving it\\xa0in your computer. You require Adobe Acrobat version 7 & above for this.'}, 'What is needed to register my bills for this service?': {'answer': \"Here's what you need to register your bills for the following Payee Corporations:\"}, 'My TNB bill Contract No. only has 6 digits but an 8-digit number is required for bill registration in M2U. What do I do?': {'answer': 'If\\xa0your Tenaga Nasional Berhad bill Contract No. (No. Kontrak) is less than 8 digits, please add zeros in front of the\\xa0numbers to make it 8 digits in total.'}, 'Will my electronic statement be accepted in case of any dispute?': {'answer': 'It is a valid document. All you have to do is obtain an endorsed copy at any Maybank branch in case of dispute or for other purposes.'}, 'If I am a joint account holder, will I be able view my bills and statements?': {'answer': 'Both primary and secondary joint account holders will be able to view bills and statements in M2U.'}, 'Will I continue to receive printed bills and statements by mail?': {'answer': 'Once you choose to accept the Terms and Conditions of Access to Bills & Statements, you will no longer receive printed Current/Savings Account & Credit Card statements by mail. You will be able to view and download them at Maybank2u.com.'}, 'How do I revert if I would like to have Hardcopy of my statements again?': {'answer': 'In order to revert hardcopy statement, I/We may request from MGCC Banking and Finance team, or through the home branch / service fulfilment unit using a letter or an Email. This will take 3-5 working days to do and changes will be effective on the next cycle of statement.'}, 'What do I need to do to receive my Electronic Statements via email?': {'answer': 'To receive Electronic Statements via email, please logon to M2U to accept the \"Stop Hardcopy T&C\". In order to do that, follow these steps:'}, \"What if I don't have a Maybank account? I only have Maybankard Credit Cards and American Express Credit Cards.\": {'answer': \"If you don't have a Maybank account and only have Maybankard Credit Cards and American Express Credit Cards, then you need to do the following:\"}, 'Upon registration of my Email Statement Delivery, when will I start receiving e-statements in my Inbox?': {'answer': 'You will start receiving your e-statements in the following billing statement cycle. However, should you register online in February 2010, you will only start receiving your e-statements during our first e-statement roll-out in March 2010.'}, 'What if I forgot my email statement password?': {'answer': 'You can reset your email statement password by performing the following steps:'}, 'Is this safe? Will someone else be able to view my e-statement?': {'answer': 'As long as you do not share your email statement password, only you will have access to your e-statement.'}, 'Will my payment due date change if I opt for e-statements? How long before I receive it?': {'answer': 'No, your payment due date will not change. You will receive it in your Inbox within 3 working days of your statement date.'}, 'How will I know when my e-statements have been sent to my email inbox?': {'answer': 'You will receive an email from M2U@bills.maybank2u.com.my.'}, 'When I applied for the American Express Gold Credit card, I was told I will only be receiving e-statements. However I have been receiving hard copy statements and not email statements.': {'answer': 'Yes, you were receiving hardcopy statement as we were still working on some technical enhancements. However, from 5th February 2010 you will be able to register online at Maybank2u.com and we will start sending out electronic statements effective March 2010. For the American Express Gold Credit Cards, any hardcopy statement request will have a nominal charge of RM5 per month from April 2010 onwards.'}, 'When I applied for the American Express Gold Credit card, I had already stated my email address in the application form. Why do I need to register on M2U again?': {'answer': 'Although you have provided your email address in the application form, for security reasons, you are still required to logon to M2U and register your email address and email statement password. The email address that you provided will appear automatically when you logon. You may change or maintain the same email address and enter your password.'}, 'Will I be charged if I opt to receive hardcopy statements?': {'answer': 'Yes, a fee of RM5 will be billed to your account every month, commencing April 2010 for the American Express Gold Credit Card only.'}, 'Once I accept the T&C online for agreeing to receive e-statements for the American Express Gold Credit Card, if I also hold an American Express Platinum Credit Card and Singapore Airlines KrisFlyer American Express Gold Credit Card, will I also stop receiving the hardcopies for both these cards?': {'answer': 'Yes, once you accept the T&C online, you will stop receiving hardcopy statements for all your Maybankard and American Express Credit Cards. However, should you wish to receive hardcopy statements, you will have to call our Customer Service Consultants. There will be no charge for these statements except for the American Express Gold Credit Card, where a fee of RM5 a month will be charged to your account from April 2010 onwards.'}, \"What if I don't do anything and leave it as it is? Will I stop receiving my hardcopy statements?\": {'answer': 'American Express Gold Credit card customers who have not registered for Bills & Statements on M2U will continue to receive their hardcopy statements, but a nominal fee of RM5 will be charged to their account each month. Maybankard cardholders will still continue to receive their hardcopy statements without any charge.'}, 'I also have an American Express Gold Charge Card. Will I be able to receive e-statements for the Charge card as well in the same email?': {'answer': 'No, currently this facility is only applicable for Maybankard and American Express Credit Cards only.'}, 'What is Online Stocks login?': {'answer': 'For the benefit of share trading customers, the new Online Stocks login allows Maybankinvest and Aseambankers accountholders to login directly to Maybank2u.com Online Stocks.'}, 'Who can use this feature?': {'answer': 'This access is open to Maybankinvest and Aseambankers share trading customers who are registered Maybank2u.com Online Banking users.'}, 'How much does it cost?': {'answer': 'It is currently available free of charge.'}, 'Can I login through Online Stocks to do Online Banking?': {'answer': 'No, you cannot. Selecting the \"Online Banking\" tab in Online Stocks will take you to the Online Banking login page. Enter your Maybank2u.com username and password to proceed.'}, 'Do I need a different username and password?': {'answer': \"No, you don't. Use your current Maybank2u.com username and password.\"}, \"Can I use the Online Stocks Login to view market prices if I don't have a share trading account?\": {'answer': 'You will not be able to. You have to login to Online Banking and select \"Online Stocks\" to view this information.'}, 'How do I use the Online Stocks Login if I have more than one Online Banking ID and password?': {'answer': 'You can access Online Stocks login via any of your access / user IDs as long as your IDs use the same IC no.'}, 'What is phishing?': {'answer': 'Phishing is a process where scamsters trick you into giving them your user IDs, passwords or credit card details, so that they can gain access to your online banking accounts.'}, 'How do I recognise a phishing scam / site?': {'answer': 'Here are a couple of ways you can spot a phishing scam'}, 'How do I prevent phishing attempts?': {'answer': 'Here are several safe tips to minimise threats of \"phishing\" and similar scams'}, 'What should I do if I forgot my M2U username and password?': {'answer': \"If you've forgotten your M2U username and password, here is what you need to do:\"}, 'Can I change my password?': {'answer': 'Yes, you can change your password using the Personal Details after logging in to Maybank2u.com.'}, 'What should I do if I forgot my Internet Banking PIN?': {'answer': \"If you've forgotten your Internet Banking PIN, here is what you need to do:\"}, 'What precautions can I take to protect my PIN and password?': {'answer': 'It is recommended that you do the following:'}, 'Your username and password cannot be the same. Why was this message displayed when I tried to login?': {'answer': 'The message will be displayed if your username and password are the same. For security reasons, your username and password should be different. You are advised to change your password to enable login.'}, 'How can I prevent my password from being automatically displayed after keying in the USER ID when using Internet Explorer 5?': {'answer': 'Internet Explorer\\xa0browsers have a feature that allows you to capture and store your user ID and password. This allows anyone with access to your computer to log into Maybank2u.com without even knowing your user ID and password.'}, 'If I have trouble logging in, what should I do?': {'answer': 'Please contact our Customer Care hotline at 1300 88 6688 or +603 7844 3696 (overseas) for assistance.'}, 'Is there an expiry to my M2U account?': {'answer': 'There is no expiry to your M2U account. However, your account will be automatically deactivated if you do not login to M2U within 6-12 months.'}, \"My account has been dormant for more than 6 months, and now I can't seem to login. What do I do?\": {'answer': 'Your account will be deactivated automatically if you do not login for 6-12 months. You will need to re-activate your M2U account online if you remember your Username and Password. But if you do not remember, please contact our Customer Service at 1300 88 6688 for assistance.'}, 'What is M2U enhanced security?': {'answer': \"M2U enhanced security is an additional security feature. It safeguards customers as they carry out banking transactions through various additional steps of verification that reinforces the fact you are at M2U's valid website.\"}, 'What does this enhanced security consist of?': {'answer': 'It consists of the following: an image, a phrase and three challenge questions. This information is known to you only when logging in to your account whether from your own computer or somewhere else.'}, 'Why do I have to use this new security feature?': {'answer': 'It is an additional security solution that will help to protect you against identity and account information theft.'}, 'Who will be able to use this new security feature?': {'answer': 'It is currently open to Individuals, Imteen and Sole Proprietor M2U users.'}, 'How to enroll this enhanced security?': {'answer': 'Existing M2U users'}, 'Will I need to change my password?': {'answer': 'No. Your password remains the same as this is just an additional security feature.'}, 'How is this enhanced security more secure?': {'answer': 'It has additional features for verification that your are at the actual M2U website before your enter your password. Further verification is carried out by the system asking you a challenge question during transaction if the situation warrants.'}, 'Why do I need to set up the challenge questions?': {'answer': 'Challenge questions are for further verification during transaction if the situation warrants. In the case that someone else has access to your Username and Password, they will not know the answers to the challenge questions as the answers provided are only known to you.'}, 'Is my image secure?': {'answer': 'Image that is presented to you during your registration process comes from a large selection of images, but randomly selected and shown for your selection. Therefore, it will be difficult for an unauthorized party to display your selected image for your verification.'}, 'Can I upload my own image?': {'answer': 'For security reasons, we are unable to allow uploading of your own images. However, we do provide a large selection of images for you to choose from.'}, 'Can I still change the image, phrase and challenge question after enrolment of this new security feature?How?': {'answer': 'Yes, you can. Please follow the steps below:'}, 'What if I have forgotten my image and/or phrase?': {'answer': 'You can opt to reset your password online and with that, you will be able to choose a new image, phrase and even challenge questions. Here is what you need to do:'}, 'How do I apply for Maybank2u Biz?': {'answer': 'You should visit your home branch for assistance on opening an M2U account.'}, 'How many users can access to Maybank2u Biz?': {'answer': 'You can have minimum of 1 user and maximum of 5 users.'}, 'Is FTT open to all M2U. Biz customers?': {'answer': 'Yes. FTT is open to all M2U. Biz customers.'}, 'Can I perform Open Payment or Fund Transfers?': {'answer': \"Yes, if you have registered for 'Maker & Checker' facility.\"}, 'Can I register / de-register my bills, 3rd party account Interbank GIRO account and FTT account via Maybank2u.com?': {'answer': \"If you have registered for 'Maker & Checker' facility, you can perform the registration and changes directly via Maybank2u. Alternatively you can still proceed with the registration and changes at any Maybank branch.\"}, 'How do I register / de-register my Bills and Accounts?': {'answer': \"You should visit your home branch for assistance on the necessary forms needed for submission, as well as statement bills for the payment unless you have registered for 'Maker & Checker' facility, you can perform it via online.\"}, 'If I already have access to M2U for my individual account, can I link my business account to allow the same access?': {'answer': 'No. You cannot link your individual account to your business account.'}, 'If I have forgotten my Password / Internet Banking Pin, how should I re-apply for a new Password and Internet Banking Pin?': {'answer': 'You will need to visit your home branch to reapply for your Internet Banking Pin.'}, 'What is the maximum transaction limit for 3rd Party Fund transfers, Interbank GIRO and Foreign Telegraphic Transfer?': {'answer': 'The maximum transaction limit will be:'}, 'How long for a transaction to remain valid, after Maker have created it?': {'answer': 'Monetary Transaction: Approval within the same day Non-Monetary Transaction: No validation period for approval'}, 'Why do I need a TAC?': {'answer': 'TAC is compulsory for specific transactions because it provides an additional layer of security to protect you against unauthorised access to your account.'}, 'Is TAC the same as the Internet Banking PIN?': {'answer': \"No, it's different. Your Internet Banking PIN, which is issued at the Branch, allows you to register for Maybank2u.com. The TAC is not used for login but only for specific transactions and types of activities.\"}, 'How much time do I have before my TAC expires?': {'answer': 'For your online banking safety, your TAC can now only be used while you are still logged on to Maybank2u.com. Your TAC will expire\\xa0immediately each time\\xa0you logout.'}, 'Can I request for TAC 24 hours a day, 7 days a week?': {'answer': 'You can request for TAC via Maybank2u.com, anytime -\\xa024 hours a day and 7 days a week.'}, 'Which is the easiest way to get a TAC?': {'answer': 'Making a TAC request via Maybank2u.com is probably the most convenient as your TAC will be sent via SMS to your mobile phone. You will have to register your mobile phone number for TAC in advance at any Maybank Branch.'}, \"How do I request for TAC if I'm overseas?\": {'answer': 'You can request for a TAC at Maybank2u.com and it will be sent to you by SMS if you have pre-registered your mobile phone number at the Branch before leaving the country.'}, 'I have a sole proprietorship account. How do I request for TAC?': {'answer': 'Note: You must apply for Phone Banking if you do not have this service currently.'}, 'Will I need a TAC each time I login to Maybank2u.com?': {'answer': 'TAC is only required for specific transactions. One TAC can be used to register multiple 3rd party accounts and bills. Subsequently, you will not require a TAC for these pre-registered transactions. You will only need to request for a new TAC to add new accounts and bills or to make ad hoc transfers.'}, 'Do I need a TAC for every transaction?': {'answer': 'Yes because you can only use one (1) TAC for only one (1) transaction or request.'}, 'Can I request for two or more TACs and use them?': {'answer': 'You may, but the latest TAC will immediately override the earlier one for security, therefore only one TAC will be valid at any time.'}, 'Is Maybank the only bank to implement the TAC security procedure?': {'answer': 'Maybank is the first Malaysian bank to implement the TAC as part of our commitment to our customers to maintain the best industry practices. TAC has been successfully introduced for Internet Banking in Singapore.'}, 'Can I cancel or deactivate my TAC?': {'answer': 'Yes. You can just delete or ignore the SMS that consist the TAC information.'}, 'I lost my TAC / I forgot the TAC / My TAC has expired!': {'answer': 'Make a request for a new TAC via Maybank2u.com or *Kawanku Phone Banking.'}, 'How many mobile phone numbers can I register for TAC?': {'answer': 'You may only register one number.'}, 'Can I register my mobile number for TAC via Maybank2u.com?': {'answer': 'No, you cannot. Your mobile number registration for TAC can only be done at the Branch for security purposes.'}, 'Can I register a foreign mobile phone number?': {'answer': 'TAC access is only available to Malaysian registered mobile phones with international call roaming service - 012, 019, 013, 014, 016, 017, 010 and 018.'}, 'Can I use the same mobile number that I registered for SMS Alerts/Maybank-Maxis Mobile Financial Services?': {'answer': 'Yes, but you will have to register your mobile number again at a Maybank Branch. You will not be able to register your mobile phone number for TAC at Maybank2u.com.'}, 'How do I change my mobile number for TAC?': {'answer': 'Just register your new number at the nearest ATM or Maybank branch.'}, 'Can I request for TAC using my mobile phone (SMS)?': {'answer': 'No. Your TAC request must be done via Maybank2u.com. You can only receive TAC via SMS, sent to the mobile phone number you registered.'}, 'Is there a charge for TAC via mobile phone (SMS)?': {'answer': 'It is available free of charge for a limited period.'}, 'How long does it take to receive TAC via mobile phone (SMS)?': {'answer': 'The delivery time depends on the traffic volume of your mobile service provider.'}, 'I entered my TAC as requested but got an error message.': {'answer': 'You may receive an \"error\" message for the following reasons:'}, 'There was a service interruption/time-out during the transaction. Is my TAC still valid or do I need a new one?': {'answer': 'You will only require a new TAC, if you have to login into Maybank2u.com again.'}, 'What happens if I enter a wrong TAC?': {'answer': 'If you enter an invalid TAC 3 times, you will be forced to \"Logout\" upon your fourth attempt. As a security precaution, your TAC will be deactivated immediately and you will not be allowed to log in to Maybank2u.com on your next \"Login\". Call our Customer Care hotline at 1-300-88-6688 or +603-7844 3696 (overseas) for assistance to reactivate login access to Maybank2u.com. You will also have to request for a new TAC to proceed with your transaction.'}, 'What happens if I suspect illegal or fraudulent transactions from my account?': {'answer': 'Please contact our Customer Care hotline at 1-300-88-6688 or 03-58914744\\xa0immediately.'}, \"How will I know that the TAC number I've received on my mobile is from Maybank2u.com?\": {'answer': 'All TAC numbers from Maybank2u.com should be delivered from any of the following shortcode numbers:'}, 'How to review recurring payment?': {'answer': \"1. Login with your Maybank2u account.2. Go to 'Settings'.3. Select 'Pay & Transfer' tab.4. Select 'Pay Future & Recurring'.5. Your list of recurring payments will be displayed here.\"}} \n",
            "3: {'Default': {'answer': \"I don't understand your question. Please try again.\"}} \n",
            "4: {123456789: {'amount': 200}, 987654321: {'amount': 300}}\n"
          ],
          "name": "stdout"
        }
      ]
    },
    {
      "cell_type": "markdown",
      "metadata": {
        "id": "fdBlF2us-k83"
      },
      "source": [
        "# Test Word Embedding Similarity"
      ]
    },
    {
      "cell_type": "code",
      "metadata": {
        "id": "QsPkg1Mv93Uw",
        "colab": {
          "base_uri": "https://localhost:8080/"
        },
        "outputId": "c36122cb-5acb-4430-d952-ae4eca266055"
      },
      "source": [
        "!python word_embedding.py "
      ],
      "execution_count": null,
      "outputs": [
        {
          "output_type": "stream",
          "text": [
            "First Sentence: good morning\n",
            "Second Sentence: good morning\n",
            "Vector similarity for similar meanings:  1.00\n"
          ],
          "name": "stdout"
        }
      ]
    },
    {
      "cell_type": "markdown",
      "metadata": {
        "id": "9M2TBisCUs8u"
      },
      "source": [
        "# Test Entity Extraction"
      ]
    },
    {
      "cell_type": "code",
      "metadata": {
        "colab": {
          "base_uri": "https://localhost:8080/"
        },
        "id": "4s86xPVcUvg0",
        "outputId": "e11a95d1-dda9-42bd-e425-6b99561b7588"
      },
      "source": [
        "from entity_extraction import get_entities\n",
        "get_entities(input())"
      ],
      "execution_count": null,
      "outputs": [
        {
          "output_type": "stream",
          "text": [
            "I paid RM30 to Simon Lim\n"
          ],
          "name": "stdout"
        },
        {
          "output_type": "execute_result",
          "data": {
            "text/plain": [
              "{'AMOUNT': ['RM30'], 'BANK_ACC': [], 'PERSON': ['Simon Lim']}"
            ]
          },
          "metadata": {
            "tags": []
          },
          "execution_count": 8
        }
      ]
    },
    {
      "cell_type": "markdown",
      "metadata": {
        "id": "09_mDwZA-qx1"
      },
      "source": [
        "# Chatbot Interface"
      ]
    },
    {
      "cell_type": "code",
      "metadata": {
        "id": "D6iQme8wPFoV",
        "colab": {
          "base_uri": "https://localhost:8080/"
        },
        "outputId": "618e875d-3a29-455e-f6ef-71b84e744653"
      },
      "source": [
        "!python main.py --default_reply_thres 0.8"
      ],
      "execution_count": 5,
      "outputs": [
        {
          "output_type": "stream",
          "text": [
            "2021-06-14 02:37:59.375432: I tensorflow/stream_executor/platform/default/dso_loader.cc:53] Successfully opened dynamic library libcudart.so.11.0\n",
            "Some weights of the model checkpoint at bert-base-uncased were not used when initializing BertModel: ['cls.predictions.transform.LayerNorm.bias', 'cls.predictions.transform.LayerNorm.weight', 'cls.predictions.decoder.weight', 'cls.predictions.transform.dense.weight', 'cls.predictions.transform.dense.bias', 'cls.seq_relationship.weight', 'cls.seq_relationship.bias', 'cls.predictions.bias']\n",
            "- This IS expected if you are initializing BertModel from the checkpoint of a model trained on another task or with another architecture (e.g. initializing a BertForSequenceClassification model from a BertForPreTraining model).\n",
            "- This IS NOT expected if you are initializing BertModel from the checkpoint of a model that you expect to be exactly identical (initializing a BertForSequenceClassification model from a BertForSequenceClassification model).\n",
            "Chatbot: \u001b[32mHi, how can I help you?\u001b[0m\n",
            "hello\n",
            "Chatbot: \u001b[32mHello, how may I help you?\u001b[0m\n",
            "I want to check my bank balance in 123456789 bank account.\n",
            "Chatbot: \u001b[32m123456789 bank account has RM200 left.\u001b[0m\n",
            "I want to transfer RM100 to this person Steven in 987654321 bank account.\n",
            "Chatbot: \u001b[32mRM100 has been transferred to Steven in 987654321.\u001b[0m\n",
            "How to apply for a Maybank2U account?\n",
            "Chatbot: \u001b[32mYou should visit your home branch for assistance on opening an M2U account.\u001b[0m\n",
            "Where are you?\n",
            "Chatbot: \u001b[32mI don't understand your question. Please try again.\u001b[0m\n",
            "Traceback (most recent call last):\n",
            "  File \"main.py\", line 99, in <module>\n",
            "    user_message = input()  \n",
            "KeyboardInterrupt\n",
            "^C\n"
          ],
          "name": "stdout"
        }
      ]
    }
  ]
}